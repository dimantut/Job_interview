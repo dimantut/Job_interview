{
 "cells": [
  {
   "cell_type": "code",
   "execution_count": 122,
   "id": "0ca5f5f7-edb5-40c7-96e3-f9b43a5e5681",
   "metadata": {},
   "outputs": [],
   "source": [
    "import pandas as pd\n",
    "import numpy as np\n",
    "import seaborn as sns"
   ]
  },
  {
   "cell_type": "code",
   "execution_count": 123,
   "id": "dc75a6ad-f9d5-4b5f-90c6-dd55b054f201",
   "metadata": {},
   "outputs": [],
   "source": [
    "users = pd.read_csv('users_.csv')\n",
    "purchases = pd.read_csv('purchases_.csv')"
   ]
  },
  {
   "cell_type": "markdown",
   "id": "fe0b331e-a4b7-47a4-96fa-f773a17f207b",
   "metadata": {},
   "source": [
    "## Задание 1"
   ]
  },
  {
   "cell_type": "markdown",
   "id": "32e3d586-b37a-425d-a59d-7d4e0bf513f2",
   "metadata": {},
   "source": [
    "Был запущен сплит-тест (а/б-тест), направленный на улучшение платежной активности пользователей. Вам дан датасет с транзакциями пользователей до и во время теста в контрольной и тестовых группах\n",
    "\n",
    "1. Какие вы можете сделать выводы? Какая группа показала лучшие результаты?"
   ]
  },
  {
   "cell_type": "markdown",
   "id": "8899cbaa-b4d8-4fcb-81da-716d7ef66731",
   "metadata": {},
   "source": [
    "### Разведочный анализ данных"
   ]
  },
  {
   "cell_type": "code",
   "execution_count": 124,
   "id": "a2e1fe45-5959-4e7a-a49f-3e7535817df1",
   "metadata": {},
   "outputs": [
    {
     "data": {
      "text/html": [
       "<div>\n",
       "<style scoped>\n",
       "    .dataframe tbody tr th:only-of-type {\n",
       "        vertical-align: middle;\n",
       "    }\n",
       "\n",
       "    .dataframe tbody tr th {\n",
       "        vertical-align: top;\n",
       "    }\n",
       "\n",
       "    .dataframe thead th {\n",
       "        text-align: right;\n",
       "    }\n",
       "</style>\n",
       "<table border=\"1\" class=\"dataframe\">\n",
       "  <thead>\n",
       "    <tr style=\"text-align: right;\">\n",
       "      <th></th>\n",
       "      <th>tag</th>\n",
       "      <th>ts</th>\n",
       "      <th>user_uid</th>\n",
       "      <th>registration_time</th>\n",
       "      <th>conv_ts</th>\n",
       "    </tr>\n",
       "  </thead>\n",
       "  <tbody>\n",
       "    <tr>\n",
       "      <th>0</th>\n",
       "      <td>test4</td>\n",
       "      <td>30152.843868</td>\n",
       "      <td>001885550d78efd82c0f5cc02ad3369a</td>\n",
       "      <td>27410.154590</td>\n",
       "      <td>29485.529691</td>\n",
       "    </tr>\n",
       "    <tr>\n",
       "      <th>1</th>\n",
       "      <td>control</td>\n",
       "      <td>30133.146255</td>\n",
       "      <td>deb7d0e9bf9813d4f21b579d3703c6e1</td>\n",
       "      <td>27410.171795</td>\n",
       "      <td>27632.424734</td>\n",
       "    </tr>\n",
       "    <tr>\n",
       "      <th>2</th>\n",
       "      <td>test1</td>\n",
       "      <td>30140.447675</td>\n",
       "      <td>32095e22f853e595a0f407ad081e7da8</td>\n",
       "      <td>27410.217536</td>\n",
       "      <td>27414.028899</td>\n",
       "    </tr>\n",
       "    <tr>\n",
       "      <th>3</th>\n",
       "      <td>control</td>\n",
       "      <td>30136.790772</td>\n",
       "      <td>9932d33f40ad07d7f3ddb7c6aee1bc60</td>\n",
       "      <td>27410.227367</td>\n",
       "      <td>27573.751226</td>\n",
       "    </tr>\n",
       "    <tr>\n",
       "      <th>4</th>\n",
       "      <td>test2</td>\n",
       "      <td>30150.339264</td>\n",
       "      <td>4a122db1ad0214e969df154d2dbb4622</td>\n",
       "      <td>27410.230786</td>\n",
       "      <td>29545.833019</td>\n",
       "    </tr>\n",
       "  </tbody>\n",
       "</table>\n",
       "</div>"
      ],
      "text/plain": [
       "       tag            ts                          user_uid  registration_time  \\\n",
       "0    test4  30152.843868  001885550d78efd82c0f5cc02ad3369a       27410.154590   \n",
       "1  control  30133.146255  deb7d0e9bf9813d4f21b579d3703c6e1       27410.171795   \n",
       "2    test1  30140.447675  32095e22f853e595a0f407ad081e7da8       27410.217536   \n",
       "3  control  30136.790772  9932d33f40ad07d7f3ddb7c6aee1bc60       27410.227367   \n",
       "4    test2  30150.339264  4a122db1ad0214e969df154d2dbb4622       27410.230786   \n",
       "\n",
       "        conv_ts  \n",
       "0  29485.529691  \n",
       "1  27632.424734  \n",
       "2  27414.028899  \n",
       "3  27573.751226  \n",
       "4  29545.833019  "
      ]
     },
     "metadata": {},
     "output_type": "display_data"
    },
    {
     "data": {
      "text/html": [
       "<div>\n",
       "<style scoped>\n",
       "    .dataframe tbody tr th:only-of-type {\n",
       "        vertical-align: middle;\n",
       "    }\n",
       "\n",
       "    .dataframe tbody tr th {\n",
       "        vertical-align: top;\n",
       "    }\n",
       "\n",
       "    .dataframe thead th {\n",
       "        text-align: right;\n",
       "    }\n",
       "</style>\n",
       "<table border=\"1\" class=\"dataframe\">\n",
       "  <thead>\n",
       "    <tr style=\"text-align: right;\">\n",
       "      <th></th>\n",
       "      <th>user_uid</th>\n",
       "      <th>time</th>\n",
       "      <th>consumption_mode</th>\n",
       "      <th>element_uid</th>\n",
       "      <th>price</th>\n",
       "    </tr>\n",
       "  </thead>\n",
       "  <tbody>\n",
       "    <tr>\n",
       "      <th>0</th>\n",
       "      <td>d60a7038c7b7e99146ffea6f6535862b</td>\n",
       "      <td>30158.645112</td>\n",
       "      <td>dto</td>\n",
       "      <td>2ba66ac9785731da67b2b6155efaca5c</td>\n",
       "      <td>44.470588</td>\n",
       "    </tr>\n",
       "    <tr>\n",
       "      <th>1</th>\n",
       "      <td>0906074e1a1a9229b5e749860b646962</td>\n",
       "      <td>30158.645015</td>\n",
       "      <td>dto</td>\n",
       "      <td>e56d422275d90c96762f81db85d80f3d</td>\n",
       "      <td>38.588235</td>\n",
       "    </tr>\n",
       "    <tr>\n",
       "      <th>2</th>\n",
       "      <td>efb6eeca3135d573739e5c5d4dbce330</td>\n",
       "      <td>30158.644990</td>\n",
       "      <td>dto</td>\n",
       "      <td>544f7dd31bd61558c9c738adcff6aafa</td>\n",
       "      <td>50.352941</td>\n",
       "    </tr>\n",
       "    <tr>\n",
       "      <th>3</th>\n",
       "      <td>ccd658e372645c991ce49b444839712f</td>\n",
       "      <td>30158.644789</td>\n",
       "      <td>dto</td>\n",
       "      <td>8256d0fc7b25382aacfec0066e39cde3</td>\n",
       "      <td>44.470588</td>\n",
       "    </tr>\n",
       "    <tr>\n",
       "      <th>4</th>\n",
       "      <td>89ae5e43ff7b89f9d262d507dedc1760</td>\n",
       "      <td>30158.644200</td>\n",
       "      <td>dto</td>\n",
       "      <td>a579f32b5c116624cc661c9d3b96d5e5</td>\n",
       "      <td>44.470588</td>\n",
       "    </tr>\n",
       "  </tbody>\n",
       "</table>\n",
       "</div>"
      ],
      "text/plain": [
       "                           user_uid          time consumption_mode  \\\n",
       "0  d60a7038c7b7e99146ffea6f6535862b  30158.645112              dto   \n",
       "1  0906074e1a1a9229b5e749860b646962  30158.645015              dto   \n",
       "2  efb6eeca3135d573739e5c5d4dbce330  30158.644990              dto   \n",
       "3  ccd658e372645c991ce49b444839712f  30158.644789              dto   \n",
       "4  89ae5e43ff7b89f9d262d507dedc1760  30158.644200              dto   \n",
       "\n",
       "                        element_uid      price  \n",
       "0  2ba66ac9785731da67b2b6155efaca5c  44.470588  \n",
       "1  e56d422275d90c96762f81db85d80f3d  38.588235  \n",
       "2  544f7dd31bd61558c9c738adcff6aafa  50.352941  \n",
       "3  8256d0fc7b25382aacfec0066e39cde3  44.470588  \n",
       "4  a579f32b5c116624cc661c9d3b96d5e5  44.470588  "
      ]
     },
     "metadata": {},
     "output_type": "display_data"
    }
   ],
   "source": [
    "display(users.head(), purchases.head())"
   ]
  },
  {
   "cell_type": "code",
   "execution_count": 125,
   "id": "3f385fc7-6cfb-4378-b67f-49ebdcf4184d",
   "metadata": {},
   "outputs": [
    {
     "name": "stdout",
     "output_type": "stream",
     "text": [
      "<class 'pandas.core.frame.DataFrame'>\n",
      "RangeIndex: 696982 entries, 0 to 696981\n",
      "Data columns (total 5 columns):\n",
      " #   Column             Non-Null Count   Dtype  \n",
      "---  ------             --------------   -----  \n",
      " 0   tag                696982 non-null  object \n",
      " 1   ts                 696982 non-null  float64\n",
      " 2   user_uid           696982 non-null  object \n",
      " 3   registration_time  696485 non-null  float64\n",
      " 4   conv_ts            696697 non-null  float64\n",
      "dtypes: float64(3), object(2)\n",
      "memory usage: 26.6+ MB\n",
      "<class 'pandas.core.frame.DataFrame'>\n",
      "RangeIndex: 663849 entries, 0 to 663848\n",
      "Data columns (total 5 columns):\n",
      " #   Column            Non-Null Count   Dtype  \n",
      "---  ------            --------------   -----  \n",
      " 0   user_uid          663849 non-null  object \n",
      " 1   time              663849 non-null  float64\n",
      " 2   consumption_mode  663849 non-null  object \n",
      " 3   element_uid       663849 non-null  object \n",
      " 4   price             663849 non-null  float64\n",
      "dtypes: float64(2), object(3)\n",
      "memory usage: 25.3+ MB\n"
     ]
    },
    {
     "data": {
      "text/plain": [
       "None"
      ]
     },
     "metadata": {},
     "output_type": "display_data"
    },
    {
     "data": {
      "text/plain": [
       "None"
      ]
     },
     "metadata": {},
     "output_type": "display_data"
    }
   ],
   "source": [
    "display(users.info(), purchases.info())"
   ]
  },
  {
   "cell_type": "markdown",
   "id": "61668de9-a129-4102-ae5f-8d1ee8f10b09",
   "metadata": {},
   "source": [
    "#### Проверка наличия дубликатов и логических ошибок"
   ]
  },
  {
   "cell_type": "code",
   "execution_count": 126,
   "id": "990b1270-b607-46d0-9d06-332d95a84899",
   "metadata": {},
   "outputs": [
    {
     "data": {
      "text/plain": [
       "user_uid\n",
       "False    694819\n",
       "True       2163\n",
       "Name: count, dtype: int64"
      ]
     },
     "execution_count": 126,
     "metadata": {},
     "output_type": "execute_result"
    }
   ],
   "source": [
    "users['user_uid'].duplicated().value_counts()"
   ]
  },
  {
   "cell_type": "code",
   "execution_count": 127,
   "id": "931ebcea-d50e-4a96-baec-b0a1cfcdc666",
   "metadata": {},
   "outputs": [
    {
     "data": {
      "text/plain": [
       "0.31130409502330825"
      ]
     },
     "execution_count": 127,
     "metadata": {},
     "output_type": "execute_result"
    }
   ],
   "source": [
    "2163/694819 * 100"
   ]
  },
  {
   "cell_type": "markdown",
   "id": "42fbacfa-e0f1-4927-8d66-f4ca457c21c2",
   "metadata": {},
   "source": [
    "Дубликаты занимают 0.3% от выборки, считаю возможным удалить их без сильного влияения на оценку. Первая идея была оставить строки с максимумом по ts но некотрорые юзеры попали в разные группы, что выглядит странно, поэтому вижу целесообразнее дубликаты просто удалить"
   ]
  },
  {
   "cell_type": "code",
   "execution_count": 128,
   "id": "c72f1f1c-38d7-4e82-8ee1-ed2e2a67766a",
   "metadata": {},
   "outputs": [],
   "source": [
    "users.drop_duplicates(['user_uid'], inplace=True)"
   ]
  },
  {
   "cell_type": "markdown",
   "id": "43338913-0b30-4b80-b465-af18e2687cd0",
   "metadata": {},
   "source": [
    "Проверим нет ли строк, где время регистрации пользователя позднее чем время появления в тесте"
   ]
  },
  {
   "cell_type": "code",
   "execution_count": 129,
   "id": "7b6d555e-9d74-4f1f-98f8-530035b598a9",
   "metadata": {},
   "outputs": [
    {
     "data": {
      "text/html": [
       "<div>\n",
       "<style scoped>\n",
       "    .dataframe tbody tr th:only-of-type {\n",
       "        vertical-align: middle;\n",
       "    }\n",
       "\n",
       "    .dataframe tbody tr th {\n",
       "        vertical-align: top;\n",
       "    }\n",
       "\n",
       "    .dataframe thead th {\n",
       "        text-align: right;\n",
       "    }\n",
       "</style>\n",
       "<table border=\"1\" class=\"dataframe\">\n",
       "  <thead>\n",
       "    <tr style=\"text-align: right;\">\n",
       "      <th></th>\n",
       "      <th>tag</th>\n",
       "      <th>ts</th>\n",
       "      <th>user_uid</th>\n",
       "      <th>registration_time</th>\n",
       "      <th>conv_ts</th>\n",
       "    </tr>\n",
       "  </thead>\n",
       "  <tbody>\n",
       "    <tr>\n",
       "      <th>1308</th>\n",
       "      <td>control</td>\n",
       "      <td>30132.530282</td>\n",
       "      <td>509b44822a9ec9b6f96c01d118176faf</td>\n",
       "      <td>30244.874660</td>\n",
       "      <td>30046.187656</td>\n",
       "    </tr>\n",
       "    <tr>\n",
       "      <th>14137</th>\n",
       "      <td>test3</td>\n",
       "      <td>30144.708921</td>\n",
       "      <td>1cd7770bba07ac2dd5152751b5ac5aac</td>\n",
       "      <td>30238.227555</td>\n",
       "      <td>30142.347016</td>\n",
       "    </tr>\n",
       "    <tr>\n",
       "      <th>28157</th>\n",
       "      <td>test1</td>\n",
       "      <td>30132.469814</td>\n",
       "      <td>d6d1be3a09a0ca4bf42988176477d3df</td>\n",
       "      <td>30243.051099</td>\n",
       "      <td>29793.565608</td>\n",
       "    </tr>\n",
       "    <tr>\n",
       "      <th>28947</th>\n",
       "      <td>test1</td>\n",
       "      <td>30150.216191</td>\n",
       "      <td>b5bb0bd4fc9f3731f824dc854349706b</td>\n",
       "      <td>30246.250068</td>\n",
       "      <td>29831.051460</td>\n",
       "    </tr>\n",
       "    <tr>\n",
       "      <th>37621</th>\n",
       "      <td>test1</td>\n",
       "      <td>30140.000534</td>\n",
       "      <td>c5101de8fdfb1e3cc551e525f32e2a93</td>\n",
       "      <td>30245.979976</td>\n",
       "      <td>NaN</td>\n",
       "    </tr>\n",
       "    <tr>\n",
       "      <th>...</th>\n",
       "      <td>...</td>\n",
       "      <td>...</td>\n",
       "      <td>...</td>\n",
       "      <td>...</td>\n",
       "      <td>...</td>\n",
       "    </tr>\n",
       "    <tr>\n",
       "      <th>658315</th>\n",
       "      <td>control</td>\n",
       "      <td>30156.679669</td>\n",
       "      <td>a6522659b4767c3ba4c633b488859c31</td>\n",
       "      <td>30245.829571</td>\n",
       "      <td>NaN</td>\n",
       "    </tr>\n",
       "    <tr>\n",
       "      <th>672977</th>\n",
       "      <td>test1</td>\n",
       "      <td>30135.189462</td>\n",
       "      <td>cfcde41c21342d9c832c98ce94dfa206</td>\n",
       "      <td>30157.210560</td>\n",
       "      <td>29430.115823</td>\n",
       "    </tr>\n",
       "    <tr>\n",
       "      <th>678593</th>\n",
       "      <td>test4</td>\n",
       "      <td>30158.349019</td>\n",
       "      <td>bb4a90d22d55de54544108cf0bd11ec5</td>\n",
       "      <td>30201.924673</td>\n",
       "      <td>30155.385573</td>\n",
       "    </tr>\n",
       "    <tr>\n",
       "      <th>691061</th>\n",
       "      <td>control</td>\n",
       "      <td>30133.983285</td>\n",
       "      <td>5a2f92f89f349fb4565f5dc4d4ff09db</td>\n",
       "      <td>30236.433278</td>\n",
       "      <td>27531.375915</td>\n",
       "    </tr>\n",
       "    <tr>\n",
       "      <th>691627</th>\n",
       "      <td>test3</td>\n",
       "      <td>30141.755749</td>\n",
       "      <td>969a5135801b8bc8538f4ae95c2ade2d</td>\n",
       "      <td>30220.133819</td>\n",
       "      <td>30218.948540</td>\n",
       "    </tr>\n",
       "  </tbody>\n",
       "</table>\n",
       "<p>143 rows × 5 columns</p>\n",
       "</div>"
      ],
      "text/plain": [
       "            tag            ts                          user_uid  \\\n",
       "1308    control  30132.530282  509b44822a9ec9b6f96c01d118176faf   \n",
       "14137     test3  30144.708921  1cd7770bba07ac2dd5152751b5ac5aac   \n",
       "28157     test1  30132.469814  d6d1be3a09a0ca4bf42988176477d3df   \n",
       "28947     test1  30150.216191  b5bb0bd4fc9f3731f824dc854349706b   \n",
       "37621     test1  30140.000534  c5101de8fdfb1e3cc551e525f32e2a93   \n",
       "...         ...           ...                               ...   \n",
       "658315  control  30156.679669  a6522659b4767c3ba4c633b488859c31   \n",
       "672977    test1  30135.189462  cfcde41c21342d9c832c98ce94dfa206   \n",
       "678593    test4  30158.349019  bb4a90d22d55de54544108cf0bd11ec5   \n",
       "691061  control  30133.983285  5a2f92f89f349fb4565f5dc4d4ff09db   \n",
       "691627    test3  30141.755749  969a5135801b8bc8538f4ae95c2ade2d   \n",
       "\n",
       "        registration_time       conv_ts  \n",
       "1308         30244.874660  30046.187656  \n",
       "14137        30238.227555  30142.347016  \n",
       "28157        30243.051099  29793.565608  \n",
       "28947        30246.250068  29831.051460  \n",
       "37621        30245.979976           NaN  \n",
       "...                   ...           ...  \n",
       "658315       30245.829571           NaN  \n",
       "672977       30157.210560  29430.115823  \n",
       "678593       30201.924673  30155.385573  \n",
       "691061       30236.433278  27531.375915  \n",
       "691627       30220.133819  30218.948540  \n",
       "\n",
       "[143 rows x 5 columns]"
      ]
     },
     "execution_count": 129,
     "metadata": {},
     "output_type": "execute_result"
    }
   ],
   "source": [
    "users.query('registration_time > ts')"
   ]
  },
  {
   "cell_type": "markdown",
   "id": "73938b3b-c06d-4ddb-b82c-5ce4d13ff16b",
   "metadata": {},
   "source": [
    "Считаю эти данные ошибками, удаляю из датасета. "
   ]
  },
  {
   "cell_type": "code",
   "execution_count": 130,
   "id": "5df0de36-5264-4834-8436-292084601af8",
   "metadata": {},
   "outputs": [],
   "source": [
    "users = users.query('registration_time <= ts')"
   ]
  },
  {
   "cell_type": "markdown",
   "id": "109c2857-be16-463c-b301-e1a4fe3bb0f4",
   "metadata": {},
   "source": [
    "Убедимся, что время начала аб теста примерно равно по группам:"
   ]
  },
  {
   "cell_type": "code",
   "execution_count": 131,
   "id": "52cb0d69-021a-4643-bd82-74fefec3237a",
   "metadata": {},
   "outputs": [
    {
     "data": {
      "text/html": [
       "<div>\n",
       "<style scoped>\n",
       "    .dataframe tbody tr th:only-of-type {\n",
       "        vertical-align: middle;\n",
       "    }\n",
       "\n",
       "    .dataframe tbody tr th {\n",
       "        vertical-align: top;\n",
       "    }\n",
       "\n",
       "    .dataframe thead th {\n",
       "        text-align: right;\n",
       "    }\n",
       "</style>\n",
       "<table border=\"1\" class=\"dataframe\">\n",
       "  <thead>\n",
       "    <tr style=\"text-align: right;\">\n",
       "      <th></th>\n",
       "      <th>ts</th>\n",
       "    </tr>\n",
       "    <tr>\n",
       "      <th>tag</th>\n",
       "      <th></th>\n",
       "    </tr>\n",
       "  </thead>\n",
       "  <tbody>\n",
       "    <tr>\n",
       "      <th>control</th>\n",
       "      <td>30141.120219</td>\n",
       "    </tr>\n",
       "    <tr>\n",
       "      <th>test1</th>\n",
       "      <td>30141.144924</td>\n",
       "    </tr>\n",
       "    <tr>\n",
       "      <th>test2</th>\n",
       "      <td>30141.146088</td>\n",
       "    </tr>\n",
       "    <tr>\n",
       "      <th>test3</th>\n",
       "      <td>30141.156612</td>\n",
       "    </tr>\n",
       "    <tr>\n",
       "      <th>test4</th>\n",
       "      <td>30141.155692</td>\n",
       "    </tr>\n",
       "  </tbody>\n",
       "</table>\n",
       "</div>"
      ],
      "text/plain": [
       "                   ts\n",
       "tag                  \n",
       "control  30141.120219\n",
       "test1    30141.144924\n",
       "test2    30141.146088\n",
       "test3    30141.156612\n",
       "test4    30141.155692"
      ]
     },
     "execution_count": 131,
     "metadata": {},
     "output_type": "execute_result"
    }
   ],
   "source": [
    "users[['tag', 'ts']].groupby('tag').mean()"
   ]
  },
  {
   "cell_type": "markdown",
   "id": "4d1f55b1-d7c4-49a8-bcf1-e24b8e4174f6",
   "metadata": {},
   "source": [
    "### Определение метрик"
   ]
  },
  {
   "cell_type": "markdown",
   "id": "bb7309e7-d87e-4ff7-a520-e11a4cc3d1c2",
   "metadata": {},
   "source": [
    "За метрики предлагаю взять: \n",
    "1. **total_pay_user_rate** - доля пользователей, которые совершили какую-либо платежную активность\n",
    "2. **sub_user_rate** доля клиентов, которые хотя бы раз приобретали подписку за время теста\n",
    "3. **total_revenue** - общий доход\n",
    "4. **avg_check** - средние траты пользователя\n",
    "5. **avg_check_no_sub** - средние траты пользователя без учета подписок"
   ]
  },
  {
   "cell_type": "code",
   "execution_count": 132,
   "id": "31f3e051-9a3c-48bd-bd1c-bdc5f669f6f6",
   "metadata": {},
   "outputs": [],
   "source": [
    "#для расчета метрик смерджим таблицы\n",
    "df_merged = pd.merge(users, purchases\n",
    "         , left_on='user_uid'\n",
    "         , right_on='user_uid'\n",
    "         , how='left')\n",
    "\n",
    "#Разделим датафрейм на тестовый и до-тестовый\n",
    "test_df = df_merged.query('time >= ts')\n",
    "pre_test_df = df_merged.query('time < ts')\n",
    "\n",
    "#также посчитаем знаменатель для 1 и 2 метрик (общее кол-во юзеров по группам)\n",
    "total_count = users[['tag', 'user_uid']].groupby('tag').count().rename(columns={'user_uid' : 'total_count'})\n",
    "\n",
    "#в test_df находятся только инфо о юзерах, которые соверащил платежную активность\n",
    "#поэтому для расчета 1 метрики посчиатем кол-во уникальных пользователей в test_df\n",
    "pay_users = test_df.drop_duplicates('user_uid')[['tag'\n",
    "                                                 , 'user_uid']].groupby('tag').count()\n",
    "pay_users.rename(columns={'user_uid' : 'pay_users'}, inplace=True)\n",
    "\n",
    "#считаем то же самое, но для метрики 2 (фильтруем юзеров с подпиской)\n",
    "sub_users = test_df.query('consumption_mode == \"subscription\"').drop_duplicates('user_uid')[['tag'\n",
    "                                                                                             , 'user_uid']].groupby('tag').count()\n",
    "sub_users.rename(columns={'user_uid' : 'sub_users'}, inplace=True)\n",
    "\n",
    "#общий доход\n",
    "total_revenue = test_df[['tag', 'price']].groupby('tag').sum().rename(columns={'price' : 'total_revenue'})\n",
    "\n",
    "#средние траты пользователя\n",
    "revenue_by_user = test_df[['tag'\n",
    "                           , 'user_uid'\n",
    "                           , 'price']].groupby(['tag'\n",
    "                                                , 'user_uid']\n",
    "                                               , as_index=False).sum()\n",
    "avg_check = revenue_by_user[['tag', 'price']].groupby('tag').mean().rename(columns={'price' : 'avg_check'})\n",
    "\n",
    "#средние траты пользователя без учета подписок\n",
    "no_sub_revenue_by_user = test_df.query('consumption_mode != \"subscription\"')[['tag'\n",
    "                                                                       , 'user_uid'\n",
    "                                                                       , 'price']].groupby(['tag'\n",
    "                                                                                            , 'user_uid']\n",
    "                                                                                           , as_index=False).sum()\n",
    "avg_check_no_sub = no_sub_revenue_by_user[['tag', 'price']].groupby('tag').mean().rename(columns={'price' : 'avg_check_no_sub'})\n"
   ]
  },
  {
   "cell_type": "code",
   "execution_count": 133,
   "id": "4d1dae90-e02b-4928-8e35-71b0b6b2900e",
   "metadata": {},
   "outputs": [
    {
     "data": {
      "text/html": [
       "<div>\n",
       "<style scoped>\n",
       "    .dataframe tbody tr th:only-of-type {\n",
       "        vertical-align: middle;\n",
       "    }\n",
       "\n",
       "    .dataframe tbody tr th {\n",
       "        vertical-align: top;\n",
       "    }\n",
       "\n",
       "    .dataframe thead th {\n",
       "        text-align: right;\n",
       "    }\n",
       "</style>\n",
       "<table border=\"1\" class=\"dataframe\">\n",
       "  <thead>\n",
       "    <tr style=\"text-align: right;\">\n",
       "      <th></th>\n",
       "      <th>total_count</th>\n",
       "      <th>pay_users</th>\n",
       "      <th>sub_users</th>\n",
       "      <th>total_revenue</th>\n",
       "      <th>avg_check</th>\n",
       "      <th>avg_check_no_sub</th>\n",
       "      <th>total_pay_user_rate</th>\n",
       "      <th>sub_user_rate</th>\n",
       "    </tr>\n",
       "    <tr>\n",
       "      <th>tag</th>\n",
       "      <th></th>\n",
       "      <th></th>\n",
       "      <th></th>\n",
       "      <th></th>\n",
       "      <th></th>\n",
       "      <th></th>\n",
       "      <th></th>\n",
       "      <th></th>\n",
       "    </tr>\n",
       "  </thead>\n",
       "  <tbody>\n",
       "    <tr>\n",
       "      <th>control</th>\n",
       "      <td>138441</td>\n",
       "      <td>30004</td>\n",
       "      <td>14655</td>\n",
       "      <td>2.046498e+06</td>\n",
       "      <td>68.207521</td>\n",
       "      <td>60.928142</td>\n",
       "      <td>21.67</td>\n",
       "      <td>10.59</td>\n",
       "    </tr>\n",
       "    <tr>\n",
       "      <th>test1</th>\n",
       "      <td>139525</td>\n",
       "      <td>31424</td>\n",
       "      <td>15086</td>\n",
       "      <td>2.168200e+06</td>\n",
       "      <td>68.998209</td>\n",
       "      <td>61.344948</td>\n",
       "      <td>22.52</td>\n",
       "      <td>10.81</td>\n",
       "    </tr>\n",
       "    <tr>\n",
       "      <th>test2</th>\n",
       "      <td>138844</td>\n",
       "      <td>31001</td>\n",
       "      <td>14836</td>\n",
       "      <td>2.148779e+06</td>\n",
       "      <td>69.313229</td>\n",
       "      <td>61.750009</td>\n",
       "      <td>22.33</td>\n",
       "      <td>10.69</td>\n",
       "    </tr>\n",
       "    <tr>\n",
       "      <th>test3</th>\n",
       "      <td>138688</td>\n",
       "      <td>31076</td>\n",
       "      <td>15043</td>\n",
       "      <td>2.158072e+06</td>\n",
       "      <td>69.444979</td>\n",
       "      <td>61.823891</td>\n",
       "      <td>22.41</td>\n",
       "      <td>10.85</td>\n",
       "    </tr>\n",
       "    <tr>\n",
       "      <th>test4</th>\n",
       "      <td>138694</td>\n",
       "      <td>31104</td>\n",
       "      <td>14776</td>\n",
       "      <td>2.148968e+06</td>\n",
       "      <td>69.089761</td>\n",
       "      <td>61.359571</td>\n",
       "      <td>22.43</td>\n",
       "      <td>10.65</td>\n",
       "    </tr>\n",
       "  </tbody>\n",
       "</table>\n",
       "</div>"
      ],
      "text/plain": [
       "         total_count  pay_users  sub_users  total_revenue  avg_check  \\\n",
       "tag                                                                    \n",
       "control       138441      30004      14655   2.046498e+06  68.207521   \n",
       "test1         139525      31424      15086   2.168200e+06  68.998209   \n",
       "test2         138844      31001      14836   2.148779e+06  69.313229   \n",
       "test3         138688      31076      15043   2.158072e+06  69.444979   \n",
       "test4         138694      31104      14776   2.148968e+06  69.089761   \n",
       "\n",
       "         avg_check_no_sub  total_pay_user_rate  sub_user_rate  \n",
       "tag                                                            \n",
       "control         60.928142                21.67          10.59  \n",
       "test1           61.344948                22.52          10.81  \n",
       "test2           61.750009                22.33          10.69  \n",
       "test3           61.823891                22.41          10.85  \n",
       "test4           61.359571                22.43          10.65  "
      ]
     },
     "execution_count": 133,
     "metadata": {},
     "output_type": "execute_result"
    }
   ],
   "source": [
    "#соберем все метрики в один датафрейм\n",
    "\n",
    "metrics = pd.concat([total_count\n",
    "                     , pay_users\n",
    "                     , sub_users\n",
    "                     , total_revenue\n",
    "                     , avg_check\n",
    "                     , avg_check_no_sub]\n",
    "                     , axis=1)\n",
    "metrics['total_pay_user_rate'] = (metrics['pay_users'] / metrics['total_count'] * 100).round(2)\n",
    "metrics['sub_user_rate'] = (metrics['sub_users'] / metrics['total_count'] * 100).round(2)\n",
    "\n",
    "metrics"
   ]
  },
  {
   "cell_type": "code",
   "execution_count": 134,
   "id": "15e4fdc8-1b30-4a57-bd9f-7c21989f5ef7",
   "metadata": {},
   "outputs": [
    {
     "data": {
      "text/plain": [
       "['test1', 'test2', 'test3', 'test4']"
      ]
     },
     "execution_count": 134,
     "metadata": {},
     "output_type": "execute_result"
    }
   ],
   "source": [
    "tag_list = metrics.index.to_list()[1:]\n",
    "tag_list"
   ]
  },
  {
   "cell_type": "code",
   "execution_count": 135,
   "id": "52243c3c-fc1b-4c40-a4d0-69cf9251073e",
   "metadata": {},
   "outputs": [
    {
     "data": {
      "text/plain": [
       "<Axes: >"
      ]
     },
     "execution_count": 135,
     "metadata": {},
     "output_type": "execute_result"
    },
    {
     "data": {
      "image/png": "[encoded data removed]",
      "text/plain": [
       "<Figure size 640x480 with 2 Axes>"
      ]
     },
     "metadata": {},
     "output_type": "display_data"
    }
   ],
   "source": [
    "#посчитаем аплифт каждой метрики\n",
    "metrics_list = ['total_pay_user_rate', 'sub_user_rate', 'total_revenue', 'avg_check', 'avg_check_no_sub']\n",
    "\n",
    "df_rows = []\n",
    "for tag in tag_list:\n",
    "    df_row = []\n",
    "    for metric in metrics_list:\n",
    "        uplift = round((metrics.loc[tag][metric] - metrics.loc['control'][metric]) \\\n",
    "                        / metrics.loc['control'][metric] * 100, 2)\n",
    "        df_row.append(uplift)\n",
    "    df_rows.append(df_row)\n",
    "\n",
    "metrics_uplift = pd.DataFrame(data=df_rows, index=tag_list, columns=metrics_list)\n",
    "\n",
    "sns.heatmap(metrics_uplift, annot=True)"
   ]
  },
  {
   "cell_type": "markdown",
   "id": "537b3fcd-677f-40e4-83b3-70f3f49a3081",
   "metadata": {},
   "source": [
    "### Вывод"
   ]
  },
  {
   "cell_type": "markdown",
   "id": "62623771-e92a-49e3-abbd-94647f2db491",
   "metadata": {},
   "source": [
    "В первой тестовой группе доля клиентов с платежной активностью имеет наибольший аплифт\n",
    "То же самое относится и к общей выручке\n",
    "\n",
    "Но доля пользователей, оформивших подписку, и размер средних трат пользователя имеет наивысший аплифт в третьей тестовой группе\n",
    "\n",
    "Таким образом нам необходима дополнительная информация о доходности по продуктам \n",
    "\n",
    "**Если для сервиса ценнее подписчики, то третья группа показывает наилучший результат**"
   ]
  },
  {
   "cell_type": "markdown",
   "id": "33a4d729-2c73-4b2e-b200-a422bd92aa73",
   "metadata": {},
   "source": [
    "## Задание 2"
   ]
  },
  {
   "cell_type": "markdown",
   "id": "fe5f2e8a-1698-46bd-bd89-5d7971be8683",
   "metadata": {},
   "source": [
    "2. Можем ли мы как-то оценить из этих данных равномерность и валидность распределения юзеров по разным группам?"
   ]
  },
  {
   "cell_type": "markdown",
   "id": "b7bb86d4-e737-4cb3-bc80-a337575a5133",
   "metadata": {},
   "source": [
    "Равномерность можно оценить сл образом:\n",
    "1. Оценить кол-во общего числа пользователей в каждой группе\n",
    "2. Посчитать метрики на данных до проведения теста"
   ]
  },
  {
   "cell_type": "code",
   "execution_count": 136,
   "id": "2b7330b5-cfab-48a3-a2b3-38b2e4c2a323",
   "metadata": {},
   "outputs": [
    {
     "data": {
      "text/html": [
       "<div>\n",
       "<style scoped>\n",
       "    .dataframe tbody tr th:only-of-type {\n",
       "        vertical-align: middle;\n",
       "    }\n",
       "\n",
       "    .dataframe tbody tr th {\n",
       "        vertical-align: top;\n",
       "    }\n",
       "\n",
       "    .dataframe thead th {\n",
       "        text-align: right;\n",
       "    }\n",
       "</style>\n",
       "<table border=\"1\" class=\"dataframe\">\n",
       "  <thead>\n",
       "    <tr style=\"text-align: right;\">\n",
       "      <th></th>\n",
       "      <th>user_uid</th>\n",
       "    </tr>\n",
       "    <tr>\n",
       "      <th>tag</th>\n",
       "      <th></th>\n",
       "    </tr>\n",
       "  </thead>\n",
       "  <tbody>\n",
       "    <tr>\n",
       "      <th>control</th>\n",
       "      <td>138441</td>\n",
       "    </tr>\n",
       "    <tr>\n",
       "      <th>test1</th>\n",
       "      <td>139525</td>\n",
       "    </tr>\n",
       "    <tr>\n",
       "      <th>test2</th>\n",
       "      <td>138844</td>\n",
       "    </tr>\n",
       "    <tr>\n",
       "      <th>test3</th>\n",
       "      <td>138688</td>\n",
       "    </tr>\n",
       "    <tr>\n",
       "      <th>test4</th>\n",
       "      <td>138694</td>\n",
       "    </tr>\n",
       "  </tbody>\n",
       "</table>\n",
       "</div>"
      ],
      "text/plain": [
       "         user_uid\n",
       "tag              \n",
       "control    138441\n",
       "test1      139525\n",
       "test2      138844\n",
       "test3      138688\n",
       "test4      138694"
      ]
     },
     "execution_count": 136,
     "metadata": {},
     "output_type": "execute_result"
    }
   ],
   "source": [
    "users[['tag', 'user_uid']].groupby('tag').count()"
   ]
  },
  {
   "cell_type": "markdown",
   "id": "c6691c8e-ed7e-4c83-b2de-963c6cbd1dba",
   "metadata": {},
   "source": [
    "Число пользователей по группам примерно одинаковое"
   ]
  },
  {
   "cell_type": "code",
   "execution_count": 137,
   "id": "7804a170-a83b-48f0-aba7-0958b8afb20a",
   "metadata": {},
   "outputs": [
    {
     "data": {
      "text/html": [
       "<div>\n",
       "<style scoped>\n",
       "    .dataframe tbody tr th:only-of-type {\n",
       "        vertical-align: middle;\n",
       "    }\n",
       "\n",
       "    .dataframe tbody tr th {\n",
       "        vertical-align: top;\n",
       "    }\n",
       "\n",
       "    .dataframe thead th {\n",
       "        text-align: right;\n",
       "    }\n",
       "</style>\n",
       "<table border=\"1\" class=\"dataframe\">\n",
       "  <thead>\n",
       "    <tr style=\"text-align: right;\">\n",
       "      <th></th>\n",
       "      <th>total_count</th>\n",
       "      <th>pay_users</th>\n",
       "      <th>avg_check</th>\n",
       "      <th>total_pay_user_rate</th>\n",
       "    </tr>\n",
       "    <tr>\n",
       "      <th>tag</th>\n",
       "      <th></th>\n",
       "      <th></th>\n",
       "      <th></th>\n",
       "      <th></th>\n",
       "    </tr>\n",
       "  </thead>\n",
       "  <tbody>\n",
       "    <tr>\n",
       "      <th>control</th>\n",
       "      <td>138441</td>\n",
       "      <td>46113</td>\n",
       "      <td>60.044812</td>\n",
       "      <td>33.31</td>\n",
       "    </tr>\n",
       "    <tr>\n",
       "      <th>test1</th>\n",
       "      <td>139525</td>\n",
       "      <td>46710</td>\n",
       "      <td>59.915564</td>\n",
       "      <td>33.48</td>\n",
       "    </tr>\n",
       "    <tr>\n",
       "      <th>test2</th>\n",
       "      <td>138844</td>\n",
       "      <td>46179</td>\n",
       "      <td>60.062185</td>\n",
       "      <td>33.26</td>\n",
       "    </tr>\n",
       "    <tr>\n",
       "      <th>test3</th>\n",
       "      <td>138688</td>\n",
       "      <td>46021</td>\n",
       "      <td>59.982757</td>\n",
       "      <td>33.18</td>\n",
       "    </tr>\n",
       "    <tr>\n",
       "      <th>test4</th>\n",
       "      <td>138694</td>\n",
       "      <td>45913</td>\n",
       "      <td>59.919901</td>\n",
       "      <td>33.10</td>\n",
       "    </tr>\n",
       "  </tbody>\n",
       "</table>\n",
       "</div>"
      ],
      "text/plain": [
       "         total_count  pay_users  avg_check  total_pay_user_rate\n",
       "tag                                                            \n",
       "control       138441      46113  60.044812                33.31\n",
       "test1         139525      46710  59.915564                33.48\n",
       "test2         138844      46179  60.062185                33.26\n",
       "test3         138688      46021  59.982757                33.18\n",
       "test4         138694      45913  59.919901                33.10"
      ]
     },
     "execution_count": 137,
     "metadata": {},
     "output_type": "execute_result"
    }
   ],
   "source": [
    "#Копируем код, который был немного ниже, но меняем test_df на pre_test_df\n",
    "\n",
    "total_count = users[['tag', 'user_uid']].groupby('tag').count().rename(columns={'user_uid' : 'total_count'})\n",
    "\n",
    "\n",
    "pay_users = pre_test_df.drop_duplicates('user_uid')[['tag'\n",
    "                                                 , 'user_uid']].groupby('tag').count()\n",
    "pay_users.rename(columns={'user_uid' : 'pay_users'}, inplace=True)\n",
    "\n",
    "revenue_by_user = pre_test_df[['tag'\n",
    "                           , 'user_uid'\n",
    "                           , 'price']].groupby(['tag'\n",
    "                                                , 'user_uid']\n",
    "                                               , as_index=False).sum()\n",
    "avg_check = revenue_by_user[['tag', 'price']].groupby('tag').mean().rename(columns={'price' : 'avg_check'})\n",
    "\n",
    "metrics_pre_test = pd.concat([total_count\n",
    "                              , pay_users\n",
    "                              , avg_check]\n",
    "                             , axis=1)\n",
    "metrics_pre_test['total_pay_user_rate'] = (metrics_pre_test['pay_users'] / metrics_pre_test['total_count'] * 100).round(2)\n",
    "\n",
    "metrics_pre_test"
   ]
  },
  {
   "cell_type": "markdown",
   "id": "b1410713-3ad1-4855-bdee-95ed4194c149",
   "metadata": {},
   "source": [
    "Средний чек и доля пользователей с платежной активностью имеют близкие значения у групп\n",
    "\n",
    "Для оценки валидности данных я бы добавил персональные данные пользователей, например пол и возраст\n",
    "Так мы сможем убедиться в том, что сегменты клиентов имеют одинаковую репрезентацию"
   ]
  },
  {
   "cell_type": "markdown",
   "id": "5b488507-c28e-49ef-b7d1-56c9b815e1ea",
   "metadata": {},
   "source": [
    "## Задание 3"
   ]
  },
  {
   "cell_type": "markdown",
   "id": "8c903343-455e-4fed-8106-eeb7a0af6c56",
   "metadata": {},
   "source": [
    "3. Если не ограничиваться теми данными, которые приведены в рамках этого задания, что ещё вы бы посчитали для оценки результатов групп?\n",
    "\n",
    "Ответ: я бы подробнее изучил разные виды подписок (1 месяц или более долгосрочные) для того, чтобы оценить Retention"
   ]
  }
 ],
 "metadata": {
  "kernelspec": {
   "display_name": "Python 3 (ipykernel)",
   "language": "python",
   "name": "python3"
  },
  "language_info": {
   "codemirror_mode": {
    "name": "ipython",
    "version": 3
   },
   "file_extension": ".py",
   "mimetype": "text/x-python",
   "name": "python",
   "nbconvert_exporter": "python",
   "pygments_lexer": "ipython3",
   "version": "3.11.6"
  }
 },
 "nbformat": 4,
 "nbformat_minor": 5
}
